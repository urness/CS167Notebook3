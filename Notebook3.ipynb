{
  "nbformat": 4,
  "nbformat_minor": 0,
  "metadata": {
    "colab": {
      "name": "Notebook3.ipynb",
      "provenance": [],
      "collapsed_sections": [],
      "authorship_tag": "ABX9TyMiqSKDppt2lIC+f3e8dx+S",
      "include_colab_link": true
    },
    "kernelspec": {
      "name": "python3",
      "display_name": "Python 3"
    },
    "language_info": {
      "name": "python"
    }
  },
  "cells": [
    {
      "cell_type": "markdown",
      "metadata": {
        "id": "view-in-github",
        "colab_type": "text"
      },
      "source": [
        "<a href=\"https://colab.research.google.com/github/urness/CS167Notebook3/blob/main/Notebook3.ipynb\" target=\"_parent\"><img src=\"https://colab.research.google.com/assets/colab-badge.svg\" alt=\"Open In Colab\"/></a>"
      ]
    },
    {
      "cell_type": "markdown",
      "source": [
        "# Notebook #3: Cross Validation with kNN and Country Life Expectancy\n",
        "**Name: your name here**\n"
      ],
      "metadata": {
        "id": "znLmB8BEzT9M"
      }
    },
    {
      "cell_type": "markdown",
      "source": [
        "### Prepare the data"
      ],
      "metadata": {
        "id": "-4SHaDEKBmFx"
      }
    },
    {
      "cell_type": "code",
      "execution_count": 2,
      "metadata": {
        "id": "pEUiWYhVWPxa",
        "colab": {
          "base_uri": "https://localhost:8080/"
        },
        "outputId": "b00aa89d-2410-498b-db7c-a2e47b1bd2f8"
      },
      "outputs": [
        {
          "output_type": "stream",
          "name": "stdout",
          "text": [
            "Mounted at /content/drive\n"
          ]
        }
      ],
      "source": [
        "import pandas\n",
        "import numpy\n",
        "from google.colab import drive \n",
        "drive.mount('/content/drive')\n"
      ]
    },
    {
      "cell_type": "code",
      "source": [
        "# change the path so to access the data on your drive \n",
        "data = pandas.read_csv('/content/drive/MyDrive/CS167Spring22/datasets/LifeExpectancyDataUpdated.csv')\n",
        "\n",
        "# create the subset of the data\n",
        "developing_countries = data[data['Status'] == \"Developing\"]\n",
        "developing_countries_subset = developing_countries[['Life expectancy', 'Polio', 'Diphtheria', 'Hepatitis B']]\n",
        "\n",
        "# drop row if Life expectancy is null\n",
        "clean_dev_countries = developing_countries_subset.dropna(subset = [\"Life expectancy\"]).copy()\n",
        "\n",
        "# replace any null rows with average values for \"Polio\" \"Diptheria\" \"Hepatitius B\"\n",
        "polio_avg = clean_dev_countries[\"Polio\"].mean()\n",
        "clean_dev_countries[\"Polio\"].fillna(polio_avg, inplace=True) \n",
        "\n",
        "dipth_avg = clean_dev_countries[\"Diphtheria\"].mean()\n",
        "clean_dev_countries[\"Diphtheria\"].fillna(dipth_avg, inplace=True) \n",
        "\n",
        "hepb_avg = clean_dev_countries[\"Hepatitis B\"].mean()\n",
        "clean_dev_countries[\"Hepatitis B\"].fillna(hepb_avg, inplace=True)\n"
      ],
      "metadata": {
        "id": "tN-ROH4Zu7lr"
      },
      "execution_count": 5,
      "outputs": []
    },
    {
      "cell_type": "markdown",
      "source": [
        "implement kNN (for regression)"
      ],
      "metadata": {
        "id": "AyPboPkYDqKu"
      }
    },
    {
      "cell_type": "code",
      "source": [
        "import numpy\n",
        "\n",
        "def regression_kNN(specimen, data, k):\n",
        "  data_copy = data.copy()\n",
        "  data_copy['distance_to_new'] = numpy.sqrt(\n",
        "    (specimen['Polio']-data['Polio'])**2\n",
        "    +(specimen['Hepatitis B']-data['Hepatitis B'])**2\n",
        "    +(specimen['Diphtheria']-data['Diphtheria'])**2)\n",
        "  sorted_data = data_copy.sort_values(['distance_to_new']) \n",
        "  return sorted_data.iloc[0:k]['Life expectancy'].mean()"
      ],
      "metadata": {
        "id": "tZu_gWT-oAnS"
      },
      "execution_count": null,
      "outputs": []
    },
    {
      "cell_type": "code",
      "source": [
        "def regressions_all_kNN(test_data,train_data,k):\n",
        "    #apply the regression_kNN function to each item in the test data with the train\n",
        "    #data and k passed as the other two arguments. The result will be a series of \n",
        "    #the individual results.\n",
        "    #return test_data.apply(classify_kNN,args=(train_data,k),axis=1)\n",
        "    results = []\n",
        "    for i in range(len(test_data)):\n",
        "      prediction = regression_kNN(test_data.iloc[i], train_data,k)\n",
        "      results.append(prediction)\n",
        "    return pandas.Series(results)"
      ],
      "metadata": {
        "id": "XBg4MVrbd7WT"
      },
      "execution_count": null,
      "outputs": []
    },
    {
      "cell_type": "markdown",
      "source": [
        "# Part 1: Implement the Mean Squared Error function"
      ],
      "metadata": {
        "id": "7FPq9PZZEE8G"
      }
    },
    {
      "cell_type": "code",
      "source": [
        "def mse(actual,predicted):\n",
        "  # actual and predicted are Series of data of equal lengths\n",
        "  # return the mean squred error "
      ],
      "metadata": {
        "id": "Oeh4PSOQD29d"
      },
      "execution_count": null,
      "outputs": []
    },
    {
      "cell_type": "markdown",
      "source": [
        "# Part 2: Implement the testing and training data. \n",
        "\n",
        "Use the approximately the first 500 rows in the shuffled set as testing data. Feel free to use fewer examples in your testing set -- particularly if it takes a long time to run on your computer (e.g. more than 30 seconds). "
      ],
      "metadata": {
        "id": "U4djkTwNELeu"
      }
    },
    {
      "cell_type": "code",
      "source": [
        "# establish test_data and train_data here"
      ],
      "metadata": {
        "id": "NkvmqcX1EwUh"
      },
      "execution_count": null,
      "outputs": []
    },
    {
      "cell_type": "markdown",
      "source": [
        "#Part 3. Test your model using several different values of k \n",
        "\n",
        "**graphically show the results**.\n"
      ],
      "metadata": {
        "id": "QRMMAFDQE9IQ"
      }
    },
    {
      "cell_type": "markdown",
      "source": [
        "#Part 4. Run this for several different splits of the data \n",
        "\n",
        "varying the number of elements in the testing data and/or different values for the \"random_state\". \n",
        "\n"
      ],
      "metadata": {
        "id": "KD2NBRIwFNT-"
      }
    },
    {
      "cell_type": "markdown",
      "source": [
        "#Part 5. What conclusions can you draw about the best number for k for the k-NN algorithm for this data set? \n",
        "\n",
        "Use a markdown cell to explain your conclusions in a few sentences."
      ],
      "metadata": {
        "id": "XWeEPFq0FYBQ"
      }
    }
  ]
}